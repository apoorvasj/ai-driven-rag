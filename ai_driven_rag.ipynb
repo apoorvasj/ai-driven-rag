{
 "cells": [
  {
   "cell_type": "markdown",
   "id": "4e60de38",
   "metadata": {},
   "source": [
    "# AI Driven RAG\n",
    "add explanation on what is RAG and RAG steps."
   ]
  },
  {
   "cell_type": "markdown",
   "id": "75e94fb5",
   "metadata": {},
   "source": [
    "## Load the Document\n",
    "add explanation"
   ]
  },
  {
   "cell_type": "code",
   "execution_count": 1,
   "id": "d130a1d8",
   "metadata": {},
   "outputs": [
    {
     "name": "stderr",
     "output_type": "stream",
     "text": [
      "c:\\Users\\My PC\\VIT\\dl_da\\dl\\myenv\\lib\\site-packages\\tqdm\\auto.py:21: TqdmWarning: IProgress not found. Please update jupyter and ipywidgets. See https://ipywidgets.readthedocs.io/en/stable/user_install.html\n",
      "  from .autonotebook import tqdm as notebook_tqdm\n"
     ]
    },
    {
     "data": {
      "text/plain": [
       "Document(metadata={'producer': 'Acrobat Distiller 9.5.3 (Windows)', 'creator': 'PScript5.dll Version 5.2.2', 'creationdate': '2013-05-03T08:28:38+02:00', 'author': 'Eryk', 'moddate': '2013-05-03T08:28:38+02:00', 'title': 'Microsoft Word - 71_GIERSZEWSKA_versita', 'source': 'research paper on knowledge management.pdf', 'total_pages': 10, 'page': 0, 'page_label': '1'}, page_content='Foundations of Management, Vol. 4, No. 1 (2012), ISSN 2080-7279 \\n DOI: 10.2478/fman-2013-0001 7 \\nTHE JAPANESE MODEL OF KNOWLEDGE MANAGEMENT \\nGrażyna GIERSZEWSKA \\nFaculty of Management \\nWarsaw University of Technology, Warsaw, Poland \\ne-mail: g.gierszewska@wz.pw.edu.pl \\n \\nAbstract: The effectiveness of Japanese management methodologies is making them increasingly popular \\nwith business organisations all over the world. This paper aims to present one of the least known knowledge \\nmanagement theories: the knowledge creation model by I. Nonaka and H. Takeuchi. In their approach to the \\ntheory of organisational learning and knowledge creation, Nonaka and Takeuchi propose a categorisation \\nof knowledge into tacit and explicit (formal) knowledge and explore the relationships between knowledge \\nproduction, transfer and application; they also address the issue of applying existing and creating new \\nknowledge. Presented SECI model captures the conversion of tacit knowledge into explicit knowledge \\nin four steps: Socialisation, Externalisation, Combination and Internalisation. The paper examines case stud-\\nies that illustrate the practical application of the processes. \\nKey words:  knowledge management, tacit knowledge, explicit knowledge, model by I. Nonaka and \\nH. Takeuchi, knowledge spiral. \\n \\n1 Introduction \\n \\nJapanese management methodologies have widely been \\ncredited for the spectacular global success of numerous \\nbusinesses from the Land of the Rising Sun . Concepts \\nand techniques such as Total Quality Management  \\nor TQM1, Kaizen, Kanban, HOSHIN or Hoshin kanri , \\nand Just in Time have been recognised and implement-\\ned in organisations in many different cultures and geog-\\nraphies since the 1970s. \\nJapanese management methodologies are standardised, \\nprocedure-driven and based on ‘regimes’. As such, they \\nare usually quite difficult to transplant directly in their \\nindigenous form to European or American business or-\\nganisations which tend to have a radically different \\ncorporate culture. These me thodologies offer a unique \\napproach to people motivation and there is a great em-\\nphasis on professional development, demonstrating in-\\ndividual innovation and creative thinking. Well \\ndeveloped and loyal human resources are considered \\nto be among the most valuable assets. Customer \\nand supplier relations are based on close relationships \\nand collaboration. This offers a competitive advantage \\ndriven by high quality products, strong productivity, \\nshort lead times and low costs. Organisations which are \\n                                                           \\n1 Quality Management as a met hod of organisational improve-\\nment was developed in the U.S. by E. Deming. Since his ideas \\nwere not embraced by American businesses at the time he pro-\\nmoted them in Japan. He is believed to be amongst the architects \\nof the Japanese economic miracle as TQM found its way \\nto many different sectors in the 1960s. \\nnot powerful market players with access to vast capital \\nresources may still become very successful by putting \\nin place many of these principles. Being observant \\nand making adjustments to everyday operations will \\nusually be enough. Knowledge management will be \\nmuch easier in organisations which operate to these \\nprinciples and have established such practices. \\nKnowledge management is not just about strategy, \\nhowever. It is based on well identified and analysed \\navailable and critical reso urces. Knowledge is one \\nof such critical resources in an organisation. Incremen-\\ntal steps must be taken to implement measures \\nand processes to achieve the goals and objectives of the \\norganisation. Knowledge management leads to the de-\\nconstruction of stereotypes in order to accomplish \\nmeasurable success\\n2. A new management philosophy is \\nrequired, which offers a new mind set and a new way \\nof interpreting social, economic and corporate devel-\\nopments. A paradigm shift in management is essential \\nto break away from traditional and, indeed, obsolete \\nways. Knowledge management offers itself as the new \\nparadigm in business.  \\nIn knowledge management, it is the human resources \\nthat have attracted companies’ and event countries’ at-\\ntention as a possible source of competitive advantage. \\nIn fact, countries can develop their own research \\nand development potential and take advantage of the \\n                                                           \\n2 T. Kuhn - The Structure of Scientific Revolutions.  New Ameri-\\ncan Library, New York 1986, preface.')"
      ]
     },
     "execution_count": 1,
     "metadata": {},
     "output_type": "execute_result"
    }
   ],
   "source": [
    "from langchain_community.document_loaders import PyPDFLoader\n",
    "pdf_loader = PyPDFLoader('research paper on knowledge management.pdf')\n",
    "docs = pdf_loader.load()\n",
    "\n",
    "#view the loaded document\n",
    "docs[0]"
   ]
  },
  {
   "cell_type": "markdown",
   "id": "fe927c4b",
   "metadata": {},
   "source": [
    "## Chunk the Document\n",
    "add explanation"
   ]
  },
  {
   "cell_type": "code",
   "execution_count": 2,
   "id": "8652c71e",
   "metadata": {},
   "outputs": [
    {
     "name": "stdout",
     "output_type": "stream",
     "text": [
      "[Document(metadata={'producer': 'Acrobat Distiller 9.5.3 (Windows)', 'creator': 'PScript5.dll Version 5.2.2', 'creationdate': '2013-05-03T08:28:38+02:00', 'author': 'Eryk', 'moddate': '2013-05-03T08:28:38+02:00', 'title': 'Microsoft Word - 71_GIERSZEWSKA_versita', 'source': 'research paper on knowledge management.pdf', 'total_pages': 10, 'page': 0, 'page_label': '1'}, page_content='e-mail: g.gierszewska@wz.pw.edu.pl \\n \\nAbstract: The effectiveness of Japanese management methodologies is making them increasingly popular \\nwith business organisations all over the world. This paper aims to present one of the least known knowledge'), Document(metadata={'producer': 'Acrobat Distiller 9.5.3 (Windows)', 'creator': 'PScript5.dll Version 5.2.2', 'creationdate': '2013-05-03T08:28:38+02:00', 'author': 'Eryk', 'moddate': '2013-05-03T08:28:38+02:00', 'title': 'Microsoft Word - 71_GIERSZEWSKA_versita', 'source': 'research paper on knowledge management.pdf', 'total_pages': 10, 'page': 0, 'page_label': '1'}, page_content='management theories: the knowledge creation model by I. Nonaka and H. Takeuchi. In their approach to the \\ntheory of organisational learning and knowledge creation, Nonaka and Takeuchi propose a categorisation')]\n",
      "179\n"
     ]
    }
   ],
   "source": [
    "from langchain_text_splitters import RecursiveCharacterTextSplitter\n",
    "splitter = RecursiveCharacterTextSplitter(chunk_size=300, chunk_overlap=50)\n",
    "docs_split = splitter.split_documents(docs)\n",
    "\n",
    "#view the split documents\n",
    "print(docs_split[1:3])\n",
    "\n",
    "#view how many chunks has the document been split into?\n",
    "print(len(docs_split))"
   ]
  },
  {
   "cell_type": "markdown",
   "id": "1abc705b",
   "metadata": {},
   "source": [
    "## Embed the Document\n",
    "add explanation"
   ]
  },
  {
   "cell_type": "code",
   "execution_count": 3,
   "id": "71681c1f",
   "metadata": {},
   "outputs": [
    {
     "data": {
      "text/plain": [
       "CohereEmbeddings(client=<cohere.client.Client object at 0x0000013D0F346A10>, async_client=<cohere.client.AsyncClient object at 0x0000013D7530BA60>, model='embed-english-v3.0', truncate=None, cohere_api_key=SecretStr('**********'), embedding_types=['float'], max_retries=3, request_timeout=None, user_agent='langchain:partner', base_url=None)"
      ]
     },
     "execution_count": 3,
     "metadata": {},
     "output_type": "execute_result"
    }
   ],
   "source": [
    "from dotenv import load_dotenv\n",
    "from langchain_cohere import CohereEmbeddings\n",
    "#load environment variables for hugging face token\n",
    "\n",
    "load_dotenv()\n",
    "\n",
    "\n",
    "embeddings= CohereEmbeddings(\n",
    "    model=\"embed-english-v3.0\"\n",
    ")\n",
    "embeddings \n"
   ]
  },
  {
   "cell_type": "markdown",
   "id": "d44b1831",
   "metadata": {},
   "source": [
    "## Store in vectorstore\n",
    "add explanation"
   ]
  },
  {
   "cell_type": "code",
   "execution_count": 12,
   "id": "54b38ae6",
   "metadata": {},
   "outputs": [
    {
     "data": {
      "text/plain": [
       "[Document(id='25d87404-bd80-41bd-b044-75247e1aa385', metadata={'creator': 'PScript5.dll Version 5.2.2', 'title': 'Microsoft Word - 71_GIERSZEWSKA_versita', 'total_pages': 10, 'page': 8, 'moddate': '2013-05-03T08:28:38+02:00', 'producer': 'Acrobat Distiller 9.5.3 (Windows)', 'creationdate': '2013-05-03T08:28:38+02:00', 'source': 'research paper on knowledge management.pdf', 'page_label': '9', 'author': 'Eryk'}, page_content='4 Conclusion  \\n \\nKnowledge management is a process used by an organ-\\nisation to generate wealth based on its intellectual \\nor knowledge-based internal assets: people, brands, im-\\nage, employees’ personal knowledge, intellectual prop-\\nerty, and knowledge-related structures such as'),\n",
       " Document(id='4aef7496-8004-4796-924c-e29abe782dc8', metadata={'creator': 'PScript5.dll Version 5.2.2', 'creationdate': '2013-05-03T08:28:38+02:00', 'page': 8, 'producer': 'Acrobat Distiller 9.5.3 (Windows)', 'moddate': '2013-05-03T08:28:38+02:00', 'author': 'Eryk', 'source': 'research paper on knowledge management.pdf', 'page_label': '9', 'total_pages': 10, 'title': 'Microsoft Word - 71_GIERSZEWSKA_versita'}, page_content='4 Conclusion  \\n \\nKnowledge management is a process used by an organ-\\nisation to generate wealth based on its intellectual \\nor knowledge-based internal assets: people, brands, im-\\nage, employees’ personal knowledge, intellectual prop-\\nerty, and knowledge-related structures such as'),\n",
       " Document(id='39095af8-5077-4600-b9e4-84dcb0f32631', metadata={'creationdate': '2013-05-03T08:28:38+02:00', 'creator': 'PScript5.dll Version 5.2.2', 'source': 'research paper on knowledge management.pdf', 'title': 'Microsoft Word - 71_GIERSZEWSKA_versita', 'author': 'Eryk', 'total_pages': 10, 'producer': 'Acrobat Distiller 9.5.3 (Windows)', 'page_label': '1', 'page': 0, 'moddate': '2013-05-03T08:28:38+02:00'}, page_content='principles and have established such practices. \\nKnowledge management is not just about strategy, \\nhowever. It is based on well identified and analysed \\navailable and critical reso urces. Knowledge is one \\nof such critical resources in an organisation. Incremen-'),\n",
       " Document(id='e4585202-c466-4f1f-bb79-c90fec9add8d', metadata={'source': 'research paper on knowledge management.pdf', 'author': 'Eryk', 'title': 'Microsoft Word - 71_GIERSZEWSKA_versita', 'page_label': '1', 'page': 0, 'moddate': '2013-05-03T08:28:38+02:00', 'creator': 'PScript5.dll Version 5.2.2', 'creationdate': '2013-05-03T08:28:38+02:00', 'producer': 'Acrobat Distiller 9.5.3 (Windows)', 'total_pages': 10}, page_content='principles and have established such practices. \\nKnowledge management is not just about strategy, \\nhowever. It is based on well identified and analysed \\navailable and critical reso urces. Knowledge is one \\nof such critical resources in an organisation. Incremen-')]"
      ]
     },
     "execution_count": 12,
     "metadata": {},
     "output_type": "execute_result"
    }
   ],
   "source": [
    "from langchain_chroma import Chroma\n",
    "\n",
    "#initialise the vectorstore with huggingface embeddings.\n",
    "vectorstore = Chroma.from_documents(docs_split,embeddings)\n",
    "\n",
    "#perform a similarity search for the word SECI\n",
    "vectorstore.similarity_search(query=\"knowledge management\")"
   ]
  },
  {
   "cell_type": "markdown",
   "id": "5e76c0ff",
   "metadata": {},
   "source": [
    "### Turn the vectorstore into a retriever\n",
    "add explanation"
   ]
  },
  {
   "cell_type": "code",
   "execution_count": 6,
   "id": "29857561",
   "metadata": {},
   "outputs": [
    {
     "name": "stdout",
     "output_type": "stream",
     "text": [
      "[Document(id='5540fa1e-492f-441e-bffa-ac6605391f15', metadata={'title': 'Microsoft Word - 71_GIERSZEWSKA_versita', 'author': 'Eryk', 'moddate': '2013-05-03T08:28:38+02:00', 'page_label': '9', 'creationdate': '2013-05-03T08:28:38+02:00', 'total_pages': 10, 'source': 'research paper on knowledge management.pdf', 'creator': 'PScript5.dll Version 5.2.2', 'producer': 'Acrobat Distiller 9.5.3 (Windows)', 'page': 8}, page_content='Model. \\nIn their theory of organisational learning and know-\\nledge creation, I. Nonaka and H. Takeuchi seem to ex-\\npress a belief in the inherent human capacity to gener-\\nate knowledge and thus change the reality. This derives \\nfrom the Japanese cultural heritage: Buddhism, Confu-'), Document(id='0b0b8508-ea2c-4eae-b391-397c1af51b9f', metadata={'page_label': '2', 'page': 1, 'source': 'research paper on knowledge management.pdf', 'total_pages': 10, 'moddate': '2013-05-03T08:28:38+02:00', 'creator': 'PScript5.dll Version 5.2.2', 'creationdate': '2013-05-03T08:28:38+02:00', 'title': 'Microsoft Word - 71_GIERSZEWSKA_versita', 'producer': 'Acrobat Distiller 9.5.3 (Windows)', 'author': 'Eryk'}, page_content='\\uf0b7 human resources policy, \\n\\uf0b7 management skills.  \\nThe point of departure for I. Nonaka and H. Takeuchi is \\nthe classification of knowledge into ‘tacit’ and ‘explic-\\nit’ (formal), as suggested by M. Polanyi6.  \\nKnowledge is created as a product of interactions be-'), Document(id='8ea11c49-f8a9-481f-8099-ef5e40e0f8bb', metadata={'author': 'Eryk', 'producer': 'Acrobat Distiller 9.5.3 (Windows)', 'creator': 'PScript5.dll Version 5.2.2', 'title': 'Microsoft Word - 71_GIERSZEWSKA_versita', 'creationdate': '2013-05-03T08:28:38+02:00', 'moddate': '2013-05-03T08:28:38+02:00', 'total_pages': 10, 'page': 2, 'page_label': '3', 'source': 'research paper on knowledge management.pdf'}, page_content='sition and processing, the pl aces of knowledge creation \\nand defining the knowledge assets. \\n I. Nonaka and H. Takeuchi are considered to be repre-\\nsentatives of a coherent and systemic approach to \\nknowledge management. They recognise two important'), Document(id='84f9aa46-13bb-4c97-944d-0f655d73610c', metadata={'page_label': '2', 'total_pages': 10, 'producer': 'Acrobat Distiller 9.5.3 (Windows)', 'source': 'research paper on knowledge management.pdf', 'page': 1, 'author': 'Eryk', 'creationdate': '2013-05-03T08:28:38+02:00', 'creator': 'PScript5.dll Version 5.2.2', 'moddate': '2013-05-03T08:28:38+02:00', 'title': 'Microsoft Word - 71_GIERSZEWSKA_versita'}, page_content='makes it ever so more difficult to articulate them\\n7.  \\n                                                           \\n5 I. Nonaka, H. Takeuchi - Kreowanie wiedzy w organizacji. \\nJak japońskie spó łki dynamizuj ą procesy innowacyjne (The \\nKnowledge-Creating Company: How Japanese Companies Cre-')]\n"
     ]
    }
   ],
   "source": [
    "retriever = vectorstore.as_retriever()\n",
    "\n",
    "#Query the retriever\n",
    "docs = retriever.invoke(\"What did Takeuchi point out?\")\n",
    "print(docs)"
   ]
  },
  {
   "cell_type": "markdown",
   "id": "1729f05c",
   "metadata": {},
   "source": [
    "## Initialise LLM\n",
    "add explanation "
   ]
  },
  {
   "cell_type": "code",
   "execution_count": 8,
   "id": "85d10899",
   "metadata": {},
   "outputs": [
    {
     "name": "stdout",
     "output_type": "stream",
     "text": [
      "content=\"Activation functions play a crucial role in deep learning, as they introduce non-linearity into the neural network, enabling it to learn and represent complex relationships between inputs and outputs. The importance of activation functions can be summarized as follows:\\n\\n1. **Introducing Non-Linearity**: Activation functions help to break the linearity of the neural network, allowing it to learn and represent non-linear relationships between inputs and outputs. Without non-linearity, the neural network would only be able to learn linear relationships, which is not sufficient for many real-world problems.\\n2. **Enabling Feature Learning**: Activation functions enable the neural network to learn features from the input data, such as edges, textures, and patterns. This is particularly important in image and speech recognition tasks, where the neural network needs to learn features that are not easily extracted using linear transformations.\\n3. **Improving Model Capacity**: Activation functions increase the capacity of the neural network, allowing it to learn more complex relationships between inputs and outputs. This is because non-linear activation functions can produce a larger range of output values, enabling the neural network to learn more nuanced representations of the input data.\\n4. **Preventing Vanishing Gradients**: Some activation functions, such as ReLU (Rectified Linear Unit) and its variants, help to prevent vanishing gradients during backpropagation. Vanishing gradients occur when the gradients of the loss function with respect to the model's parameters become very small, making it difficult to update the model's parameters during training.\\n5. **Regularization**: Some activation functions, such as dropout and its variants, can be used as a regularization technique to prevent overfitting. By randomly dropping out neurons during training, dropout helps to prevent the neural network from relying too heavily on any individual neuron or group of neurons.\\n6. **Improving Robustness**: Activation functions can help to improve the robustness of the neural network to noise and adversarial attacks. For example, some activation functions, such as the sigmoid function, can help to reduce the impact of noise on the neural network's output.\\n7. **Enabling Sparse Representations**: Some activation functions, such as ReLU and its variants, can help to produce sparse representations of the input data. Sparse representations can be useful for reducing the dimensionality of the input data and improving the efficiency of the neural network.\\n\\nSome common activation functions used in deep learning include:\\n\\n* Sigmoid: maps the input to a value between 0 and 1\\n* ReLU (Rectified Linear Unit): maps the input to 0 if it is negative, and to the input value if it is positive\\n* Tanh (Hyperbolic Tangent): maps the input to a value between -1 and 1\\n* Softmax: maps the input to a probability distribution over multiple classes\\n* Leaky ReLU: a variant of ReLU that allows a small fraction of the input to pass through, even if it is negative\\n* Swish: a recently introduced activation function that has been shown to outperform ReLU in some tasks.\\n\\nIn summary, activation functions are a crucial component of deep learning models, enabling them to learn complex relationships between inputs and outputs, and improving their capacity, robustness, and efficiency.\" additional_kwargs={} response_metadata={'token_usage': {'completion_tokens': 653, 'prompt_tokens': 46, 'total_tokens': 699, 'completion_time': 1.429904444, 'prompt_time': 0.002632688, 'queue_time': 0.053154352, 'total_time': 1.432537132}, 'model_name': 'llama-3.3-70b-versatile', 'system_fingerprint': 'fp_9e1e8f8435', 'service_tier': 'on_demand', 'finish_reason': 'stop', 'logprobs': None} id='run--f8b78a85-93d4-42f1-ac9c-32749b390a7a-0' usage_metadata={'input_tokens': 46, 'output_tokens': 653, 'total_tokens': 699}\n"
     ]
    }
   ],
   "source": [
    "#We are going to use the llama model, through Groq API.\n",
    "#Let us test the model first.\n",
    "\n",
    "from langchain_groq import ChatGroq\n",
    "\n",
    "#initialise the LLM\n",
    "llm = ChatGroq(model_name = \"llama-3.3-70b-versatile\")\n",
    "\n",
    "#test the LLM\n",
    "response = llm.invoke('What is the importance of activation functions in deep learning?')\n",
    "print(response)"
   ]
  },
  {
   "cell_type": "markdown",
   "id": "ec7b92f3",
   "metadata": {},
   "source": [
    "## Create a prompt template\n",
    "add explanation"
   ]
  },
  {
   "cell_type": "code",
   "execution_count": 15,
   "id": "4f9a927d",
   "metadata": {},
   "outputs": [],
   "source": [
    "from langchain_core.prompts import ChatPromptTemplate\n",
    "\n",
    "prompt = ChatPromptTemplate.from_messages([(\"system\",\"You are a helpful question-answer agent. Based on the given {context}, answer the user query.\"),\n",
    "                                           (\"user\",\"{input}\")])"
   ]
  },
  {
   "cell_type": "markdown",
   "id": "2c30e0e1",
   "metadata": {},
   "source": [
    "## Create a runnable with prompt template and LLM for RAG-Based LLM approach\n",
    "add explanation"
   ]
  },
  {
   "cell_type": "code",
   "execution_count": 16,
   "id": "9ad888df",
   "metadata": {},
   "outputs": [],
   "source": [
    "from langchain.chains import create_retrieval_chain\n",
    "from langchain.chains.combine_documents import create_stuff_documents_chain\n",
    "\n",
    "qa_chain = create_stuff_documents_chain(llm, prompt)\n",
    "rag_chain = create_retrieval_chain(retriever, qa_chain)\n"
   ]
  },
  {
   "cell_type": "markdown",
   "id": "4012ee6d",
   "metadata": {},
   "source": [
    "## Call the rag_chain  runnable \n",
    "add explanation"
   ]
  },
  {
   "cell_type": "code",
   "execution_count": 17,
   "id": "964a69b2",
   "metadata": {},
   "outputs": [
    {
     "data": {
      "text/plain": [
       "{'input': 'what are the essentials of knowledge management?',\n",
       " 'context': [Document(id='d45315aa-1653-4a23-a876-5acd0a2b74f8', metadata={'source': 'research paper on knowledge management.pdf', 'author': 'Eryk', 'total_pages': 10, 'title': 'Microsoft Word - 71_GIERSZEWSKA_versita', 'creationdate': '2013-05-03T08:28:38+02:00', 'creator': 'PScript5.dll Version 5.2.2', 'moddate': '2013-05-03T08:28:38+02:00', 'page_label': '2', 'page': 1, 'producer': 'Acrobat Distiller 9.5.3 (Windows)'}, page_content='2 The essentials of the knowledge management \\nmodel by I. Nonaka and H. Takeuchi \\n \\nI. Nonaka and H. Takeuchi observe that while \\nknowledge is at the centre of attention in business or-\\nganisations and in society no one has yet examined the \\nmechanisms and processe s of knowledge creation\\n5.'),\n",
       "  Document(id='9ed34e93-d85e-4505-8fba-5864dfc1da15', metadata={'total_pages': 10, 'author': 'Eryk', 'page': 1, 'creationdate': '2013-05-03T08:28:38+02:00', 'title': 'Microsoft Word - 71_GIERSZEWSKA_versita', 'source': 'research paper on knowledge management.pdf', 'page_label': '2', 'creator': 'PScript5.dll Version 5.2.2', 'moddate': '2013-05-03T08:28:38+02:00', 'producer': 'Acrobat Distiller 9.5.3 (Windows)'}, page_content='2 The essentials of the knowledge management \\nmodel by I. Nonaka and H. Takeuchi \\n \\nI. Nonaka and H. Takeuchi observe that while \\nknowledge is at the centre of attention in business or-\\nganisations and in society no one has yet examined the \\nmechanisms and processe s of knowledge creation\\n5.'),\n",
       "  Document(id='39095af8-5077-4600-b9e4-84dcb0f32631', metadata={'total_pages': 10, 'creator': 'PScript5.dll Version 5.2.2', 'creationdate': '2013-05-03T08:28:38+02:00', 'page_label': '1', 'author': 'Eryk', 'moddate': '2013-05-03T08:28:38+02:00', 'title': 'Microsoft Word - 71_GIERSZEWSKA_versita', 'source': 'research paper on knowledge management.pdf', 'producer': 'Acrobat Distiller 9.5.3 (Windows)', 'page': 0}, page_content='principles and have established such practices. \\nKnowledge management is not just about strategy, \\nhowever. It is based on well identified and analysed \\navailable and critical reso urces. Knowledge is one \\nof such critical resources in an organisation. Incremen-'),\n",
       "  Document(id='e4585202-c466-4f1f-bb79-c90fec9add8d', metadata={'creationdate': '2013-05-03T08:28:38+02:00', 'page': 0, 'total_pages': 10, 'moddate': '2013-05-03T08:28:38+02:00', 'creator': 'PScript5.dll Version 5.2.2', 'source': 'research paper on knowledge management.pdf', 'title': 'Microsoft Word - 71_GIERSZEWSKA_versita', 'author': 'Eryk', 'producer': 'Acrobat Distiller 9.5.3 (Windows)', 'page_label': '1'}, page_content='principles and have established such practices. \\nKnowledge management is not just about strategy, \\nhowever. It is based on well identified and analysed \\navailable and critical reso urces. Knowledge is one \\nof such critical resources in an organisation. Incremen-')],\n",
       " 'answer': \"According to I. Nonaka and H. Takeuchi, the essentials of the knowledge management model can be summarized as follows:\\n\\n1. **Knowledge is a critical resource**: Knowledge is one of the critical resources in an organization, and its management is essential for success.\\n2. **Knowledge creation is key**: The creation of new knowledge is a crucial aspect of knowledge management, and organizations must examine the mechanisms and processes of knowledge creation.\\n3. **Well-identified and analyzed resources**: Knowledge management is based on well-identified and analyzed available and critical resources, including knowledge.\\n4. **More than just strategy**: Knowledge management is not just about strategy, but also about understanding the underlying principles and practices that support knowledge creation and sharing.\\n5. **Focus on knowledge creation mechanisms**: The model emphasizes the importance of understanding the mechanisms and processes of knowledge creation, which is essential for organizations to innovate and stay competitive.\\n\\nAdditionally, Nonaka and Takeuchi's knowledge management model is often summarized into four modes of knowledge conversion:\\n\\n1. **Socialization**: Sharing tacit knowledge through social interactions.\\n2. **Externalization**: Converting tacit knowledge into explicit knowledge through documentation and communication.\\n3. **Combination**: Combining different pieces of explicit knowledge to create new knowledge.\\n4. **Internalization**: Converting explicit knowledge into tacit knowledge through experience and practice.\\n\\nThese essentials and modes of knowledge conversion form the foundation of the knowledge management model by Nonaka and Takeuchi.\"}"
      ]
     },
     "execution_count": 17,
     "metadata": {},
     "output_type": "execute_result"
    }
   ],
   "source": [
    "user_query = \"what are the essentials of knowledge management?\"\n",
    "rag_chain.invoke({\"input\":user_query})"
   ]
  }
 ],
 "metadata": {
  "kernelspec": {
   "display_name": "myenv (3.10.7)",
   "language": "python",
   "name": "python3"
  },
  "language_info": {
   "codemirror_mode": {
    "name": "ipython",
    "version": 3
   },
   "file_extension": ".py",
   "mimetype": "text/x-python",
   "name": "python",
   "nbconvert_exporter": "python",
   "pygments_lexer": "ipython3",
   "version": "3.10.7"
  }
 },
 "nbformat": 4,
 "nbformat_minor": 5
}
